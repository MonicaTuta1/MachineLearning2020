{
 "cells": [
  {
   "cell_type": "code",
   "execution_count": 1,
   "metadata": {
    "collapsed": false
   },
   "outputs": [
   ],
   "source": [
    "#Load models\n",
    "RF_model <- readRDS(\"RF.rds\")\n",
    "SVM_model <- readRDS(\"SVM.rds\")"
   ]
  },
  {
   "cell_type": "code",
   "execution_count": 2,
   "metadata": {
    "collapsed": false
   },
   "outputs": [
   ],
   "source": [
    "#Function to determine healthy or not and the consequent risk of heart disease\n",
    "heartDiseaseYesNo <- function(vectorParameters) {\n",
    "    #Random forest\n",
    "    RF_prediction <- predict(SVM_model, newdata = vectorParameters)\n",
    "    if (RF_prediction){\n",
    "        message1 <-\"RandomForest says you are UNHEALTHY and with HIGH risk to have a heart disease,\"\n",
    "    }\n",
    "    else{\n",
    "        message1 <-\"RandomForest says you are HEALTHY and with LOW risk to have a heart disease,\"\n",
    "    }\n",
    "    #SVM\n",
    "    SVM_prediction <- predict(SVM_model, newdata = vectorParameters)\n",
    "    if (SVM_prediction){\n",
    "        message2 <-\"and SVM says you are UNHEALTHY and with HIGH risk to have a heart disease\"\n",
    "    }\n",
    "    else{\n",
    "        message2 <-\"and SVM says you are HEALTHY and with LOW to have a heart disease\"\n",
    "    }\n",
    "    message <- paste(message1,message2)\n",
    "    return(message)\n",
    "}"
   ]
  },
  {
   "cell_type": "code",
   "execution_count": 3,
   "metadata": {
    "collapsed": false
   },
   "outputs": [
   ],
   "source": [
    "parametersMonica <- data.frame(age=integer(),\n",
    "                sex=integer(),\n",
    "                cp=integer(),\n",
    "                trestbps=integer(),\n",
    "                chol=integer(),\n",
    "                fbs=integer(),\n",
    "                restecg=integer(),\n",
    "                thalach=integer(),\n",
    "                exang=integer(),\n",
    "                oldpeak=numeric(),\n",
    "                slope=integer(),\n",
    "                ca=integer(),\n",
    "                thal=integer(),\n",
    "                stringsAsFactors=FALSE)"
   ]
  },
  {
   "cell_type": "markdown",
   "metadata": {
    "collapsed": false
   },
   "source": [
    "## TRY THE FUNCTION"
   ]
  },
  {
   "cell_type": "code",
   "execution_count": 4,
   "metadata": {
    "cocalc": {
     "outputs": {
      "0": {
       "name": "input",
       "opts": {
        "password": false,
        "prompt": "Please enter the 13 parameters or the patient separated by a colon (,)"
       },
       "output_type": "stream",
       "value": "63,1,3,145,233,1,0,150,0,2.3,0,0,1"
      }
     }
    },
    "collapsed": false,
    "scrolled": true
   },
   "outputs": [
    {
     "name": "stdout",
     "output_type": "stream",
     "text": "Please enter the 13 parameters or the patient separated by a colon (,) 63,1,3,145,233,1,0,150,0,2.3,0,0,1"
    }
   ],
   "source": [
    "parameters <- readline(\"Please enter the 13 parameters or the patient separated by a colon (,)\");\n",
    "parameters <- as.numeric(unlist(strsplit(parameters, \",\")));\n",
    "parametersMonica <-rbind(parametersMonica, parameters)\n",
    "colnames(parametersMonica)<-c(\"age\",\"sex\",\"cp\",\"trestbps\",\"chol\",\"fbs\",\"restecg\",\"thalach\",\"exang\",\"oldpeak\",\"slope\",\"ca\",\"thal\")"
   ]
  },
  {
   "cell_type": "code",
   "execution_count": 5,
   "metadata": {
    "collapsed": false
   },
   "outputs": [
    {
     "data": {
      "text/html": [
       "'RandomForest says you are UNHEALTHY and with HIGH risk to have a heart disease, and SVM says you are UNHEALTHY and with HIGH risk to have a heart disease'"
      ],
      "text/latex": [
       "'RandomForest says you are UNHEALTHY and with HIGH risk to have a heart disease, and SVM says you are UNHEALTHY and with HIGH risk to have a heart disease'"
      ],
      "text/markdown": [
       "'RandomForest says you are UNHEALTHY and with HIGH risk to have a heart disease, and SVM says you are UNHEALTHY and with HIGH risk to have a heart disease'"
      ],
      "text/plain": [
       "[1] \"RandomForest says you are UNHEALTHY and with HIGH risk to have a heart disease, and SVM says you are UNHEALTHY and with HIGH risk to have a heart disease\""
      ]
     },
     "execution_count": 5,
     "metadata": {
     },
     "output_type": "execute_result"
    }
   ],
   "source": [
    "heartDiseaseYesNo(parametersMonica)"
   ]
  }
 ],
 "metadata": {
  "kernelspec": {
   "display_name": "R (system-wide)",
   "language": "r",
   "metadata": {
    "cocalc": {
     "description": "R statistical programming language",
     "priority": 10,
     "url": "https://www.r-project.org/"
    }
   },
   "name": "ir"
  },
  "language_info": {
   "codemirror_mode": "r",
   "file_extension": ".r",
   "mimetype": "text/x-r-source",
   "name": "R",
   "pygments_lexer": "r",
   "version": "3.6.3"
  }
 },
 "nbformat": 4,
 "nbformat_minor": 4
}