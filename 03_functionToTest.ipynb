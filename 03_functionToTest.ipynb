{
 "cells": [
  {
   "cell_type": "markdown",
   "metadata": {
    "collapsed": false
   },
   "source": [
    "<img src=\"images/logoUB.svg\"  style=\"max-width:20%\">"
   ]
  },
  {
   "cell_type": "markdown",
   "metadata": {
    "collapsed": false
   },
   "source": [
    "# Final project Machine Learning 2019-2020\n",
    "#### Master in Innovation and Entrepreneurship in Biomedical Engineering\n",
    "###### Authors: Arantxa Palma Rotaeche, Mónica Tuta"
   ]
  },
  {
   "cell_type": "markdown",
   "metadata": {
    "collapsed": false
   },
   "source": [
    "<center>\n",
    "<h4>\n",
    "    Heart disease binary classification from clinical data - Modeling\n",
    "    </h4> \n",
    "<img src=\"images/heartDesease.jpg\"  style=\"max-width:30%\">\n",
    "</center>"
   ]
  },
  {
   "cell_type": "markdown",
   "metadata": {
    "collapsed": false
   },
   "source": [
    "The following function allow the classification of **one** pacient into healthy/unhealthy according to their features"
   ]
  },
  {
   "cell_type": "code",
   "execution_count": 1,
   "metadata": {
    "collapsed": false
   },
   "outputs": [
   ],
   "source": [
    "#Load models\n",
    "RF_model <- readRDS(\"RF.rds\")\n",
    "SVM_model <- readRDS(\"SVM.rds\")"
   ]
  },
  {
   "cell_type": "code",
   "execution_count": 2,
   "metadata": {
    "collapsed": false
   },
   "outputs": [
   ],
   "source": [
    "heartDiseaseYesNo <- function(vectorParameters) {\n",
    "    out <- tryCatch(\n",
    "\n",
    "        {   message1<-\" - \"\n",
    "            message2<-\" - \"\n",
    "            #---------------Random forest----------------\n",
    "            RF_prediction <- predict(RF_model, newdata = vectorParameters)\n",
    "            if (RF_prediction==1){\n",
    "                message1 <-\"RandomForest says you are UNHEALTHY and with HIGH risk to have a heart disease,\"\n",
    "            }\n",
    "            else{\n",
    "                message1 <-\"RandomForest says you are HEALTHY and with LOW risk to have a heart disease,\"\n",
    "            }\n",
    "            #--------------------SVM---------------------\n",
    "            SVM_prediction <- predict(SVM_model, newdata = vectorParameters)\n",
    "            if (SVM_prediction==1){\n",
    "                message2 <-\"and SVM says you are UNHEALTHY and with HIGH risk to have a heart disease\"\n",
    "            }\n",
    "            else{\n",
    "                message2 <-\"and SVM says you are HEALTHY and with LOW risk to have a heart disease\"\n",
    "            }\n",
    "            message <- paste(message1,message2)\n",
    "        },\n",
    "        error=function(cond) {\n",
    "                message(\"ERROR The parameters you entered are not correct, please try again\")\n",
    "                message(cond)\n",
    "                # Choose a return value in case of error\n",
    "                return(NA)\n",
    "        },\n",
    "        warning=function(cond) {\n",
    "                message(\"WARNING The parameters you entered are not correct, please try again\")\n",
    "                message(cond)\n",
    "            # Choose a return value in case of warning\n",
    "            return(NULL)\n",
    "        },\n",
    "        finally={\n",
    "        message <- paste(message1,message2)\n",
    "        return(message)\n",
    "        }\n",
    "    )\n",
    "    return(out)\n",
    "}"
   ]
  },
  {
   "cell_type": "markdown",
   "metadata": {
    "collapsed": false
   },
   "source": [
    "## TRY THE FUNCTION"
   ]
  },
  {
   "cell_type": "code",
   "execution_count": 3,
   "metadata": {
    "cocalc": {
     "outputs": {
      "0": {
       "name": "input",
       "opts": {
        "password": false,
        "prompt": "Please enter the 13 parameters or the patient separated by a colon (,)"
       },
       "output_type": "stream",
       "value": "71,0,1,160,302,0,1,162,0,0.4,2,2,2"
      }
     }
    },
    "collapsed": false,
    "scrolled": true
   },
   "outputs": [
    {
     "name": "stdout",
     "output_type": "stream",
     "text": "Please enter the 13 parameters or the patient separated by a colon (,) 71,0,1,160,302,0,1,162,0,0.4,2,2,2"
    },
    {
     "data": {
      "text/html": [
       "'RandomForest says you are UNHEALTHY and with HIGH risk to have a heart disease, and SVM says you are UNHEALTHY and with HIGH risk to have a heart disease'"
      ],
      "text/latex": [
       "'RandomForest says you are UNHEALTHY and with HIGH risk to have a heart disease, and SVM says you are UNHEALTHY and with HIGH risk to have a heart disease'"
      ],
      "text/markdown": [
       "'RandomForest says you are UNHEALTHY and with HIGH risk to have a heart disease, and SVM says you are UNHEALTHY and with HIGH risk to have a heart disease'"
      ],
      "text/plain": [
       "[1] \"RandomForest says you are UNHEALTHY and with HIGH risk to have a heart disease, and SVM says you are UNHEALTHY and with HIGH risk to have a heart disease\""
      ]
     },
     "execution_count": 3,
     "metadata": {
     },
     "output_type": "execute_result"
    }
   ],
   "source": [
    "#------------Imput from the user-------------\n",
    "parameters <- readline(\"Please enter the 13 parameters or the patient separated by a colon (,)\");\n",
    "parameters <- as.numeric(unlist(strsplit(parameters, \",\")));\n",
    "\n",
    "#----------The dataframe is created----------\n",
    "parametersMonica <- data.frame(age=integer(), sex=integer(),\n",
    "                cp=integer(),trestbps=integer(),\n",
    "                chol=integer(),fbs=integer(),\n",
    "                restecg=integer(),thalach=integer(),\n",
    "                exang=integer(),oldpeak=numeric(),\n",
    "                slope=integer(),ca=integer(),\n",
    "                thal=integer(),stringsAsFactors=FALSE)\n",
    "parametersMonica <-rbind(parametersMonica, parameters)\n",
    "colnames(parametersMonica)<-c(\"age\",\"sex\",\"cp\",\"trestbps\",\"chol\",\"fbs\",\"restecg\",\"thalach\",\"exang\",\"oldpeak\",\"slope\",\"ca\",\"thal\")\n",
    "\n",
    "#------------Call to the function------------\n",
    "heartDiseaseYesNo(parametersMonica)\n",
    "\n",
    "#----Clear the dataframe for another call----\n",
    "remove(parametersMonica)"
   ]
  },
  {
   "cell_type": "markdown",
   "metadata": {
    "collapsed": false
   },
   "source": [
    "**Some examples to test:** <br>\n",
    "\n",
    "_Healthy_<br>\n",
    "57,1,0,130,131,0,1,115,1,1.2,1,1,3 <br>\n",
    "63,1,0,130,254,0,0,147,0,1.4,1,1,3 <br>\n",
    "_Unhealthy_<br>\n",
    "40,1,3,140,199,0,1,178,1,1.4,2,0,3 <br>\n",
    "41,0,1,105,198,0,1,168,0,0,2,1,2 <br>\n",
    "\n",
    "_Different results for models_<br>\n",
    "57,0,1,130,236,0,0,174,0,0,1,1,2"
   ]
  }
 ],
 "metadata": {
  "kernelspec": {
   "display_name": "R (system-wide)",
   "language": "r",
   "metadata": {
    "cocalc": {
     "description": "R statistical programming language",
     "priority": 10,
     "url": "https://www.r-project.org/"
    }
   },
   "name": "ir"
  },
  "language_info": {
   "codemirror_mode": "r",
   "file_extension": ".r",
   "mimetype": "text/x-r-source",
   "name": "R",
   "pygments_lexer": "r",
   "version": "3.6.3"
  }
 },
 "nbformat": 4,
 "nbformat_minor": 4
}